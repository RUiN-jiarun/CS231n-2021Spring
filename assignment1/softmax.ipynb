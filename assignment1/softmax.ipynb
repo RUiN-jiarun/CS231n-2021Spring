{
 "cells": [
  {
   "cell_type": "markdown",
   "metadata": {
    "tags": [
     "pdf-title"
    ]
   },
   "source": [
    "# Softmax exercise\n",
    "\n",
    "*Complete and hand in this completed worksheet (including its outputs and any supporting code outside of the worksheet) with your assignment submission. For more details see the [assignments page](http://vision.stanford.edu/teaching/cs231n/assignments.html) on the course website.*\n",
    "\n",
    "This exercise is analogous to the SVM exercise. You will:\n",
    "\n",
    "- implement a fully-vectorized **loss function** for the Softmax classifier\n",
    "- implement the fully-vectorized expression for its **analytic gradient**\n",
    "- **check your implementation** with numerical gradient\n",
    "- use a validation set to **tune the learning rate and regularization** strength\n",
    "- **optimize** the loss function with **SGD**\n",
    "- **visualize** the final learned weights\n"
   ]
  },
  {
   "cell_type": "code",
   "execution_count": 1,
   "metadata": {
    "tags": [
     "pdf-ignore"
    ]
   },
   "outputs": [],
   "source": [
    "import random\n",
    "import numpy as np\n",
    "from cs231n.data_utils import load_CIFAR10\n",
    "import matplotlib.pyplot as plt\n",
    "\n",
    "%matplotlib inline\n",
    "plt.rcParams['figure.figsize'] = (10.0, 8.0) # set default size of plots\n",
    "plt.rcParams['image.interpolation'] = 'nearest'\n",
    "plt.rcParams['image.cmap'] = 'gray'\n",
    "\n",
    "# for auto-reloading extenrnal modules\n",
    "# see http://stackoverflow.com/questions/1907993/autoreload-of-modules-in-ipython\n",
    "%load_ext autoreload\n",
    "%autoreload 2"
   ]
  },
  {
   "cell_type": "code",
   "execution_count": 2,
   "metadata": {
    "tags": [
     "pdf-ignore"
    ]
   },
   "outputs": [
    {
     "name": "stdout",
     "output_type": "stream",
     "text": [
      "Train data shape:  (49000, 3073)\n",
      "Train labels shape:  (49000,)\n",
      "Validation data shape:  (1000, 3073)\n",
      "Validation labels shape:  (1000,)\n",
      "Test data shape:  (1000, 3073)\n",
      "Test labels shape:  (1000,)\n",
      "dev data shape:  (500, 3073)\n",
      "dev labels shape:  (500,)\n"
     ]
    }
   ],
   "source": [
    "def get_CIFAR10_data(num_training=49000, num_validation=1000, num_test=1000, num_dev=500):\n",
    "    \"\"\"\n",
    "    Load the CIFAR-10 dataset from disk and perform preprocessing to prepare\n",
    "    it for the linear classifier. These are the same steps as we used for the\n",
    "    SVM, but condensed to a single function.  \n",
    "    \"\"\"\n",
    "    # Load the raw CIFAR-10 data\n",
    "    cifar10_dir = 'cs231n/datasets/cifar-10-batches-py'\n",
    "    \n",
    "    # Cleaning up variables to prevent loading data multiple times (which may cause memory issue)\n",
    "    try:\n",
    "       del X_train, y_train\n",
    "       del X_test, y_test\n",
    "       print('Clear previously loaded data.')\n",
    "    except:\n",
    "       pass\n",
    "\n",
    "    X_train, y_train, X_test, y_test = load_CIFAR10(cifar10_dir)\n",
    "    \n",
    "    # subsample the data\n",
    "    mask = list(range(num_training, num_training + num_validation))\n",
    "    X_val = X_train[mask]\n",
    "    y_val = y_train[mask]\n",
    "    mask = list(range(num_training))\n",
    "    X_train = X_train[mask]\n",
    "    y_train = y_train[mask]\n",
    "    mask = list(range(num_test))\n",
    "    X_test = X_test[mask]\n",
    "    y_test = y_test[mask]\n",
    "    mask = np.random.choice(num_training, num_dev, replace=False)\n",
    "    X_dev = X_train[mask]\n",
    "    y_dev = y_train[mask]\n",
    "    \n",
    "    # Preprocessing: reshape the image data into rows\n",
    "    X_train = np.reshape(X_train, (X_train.shape[0], -1))\n",
    "    X_val = np.reshape(X_val, (X_val.shape[0], -1))\n",
    "    X_test = np.reshape(X_test, (X_test.shape[0], -1))\n",
    "    X_dev = np.reshape(X_dev, (X_dev.shape[0], -1))\n",
    "    \n",
    "    # Normalize the data: subtract the mean image\n",
    "    mean_image = np.mean(X_train, axis = 0)\n",
    "    X_train -= mean_image\n",
    "    X_val -= mean_image\n",
    "    X_test -= mean_image\n",
    "    X_dev -= mean_image\n",
    "    \n",
    "    # add bias dimension and transform into columns\n",
    "    X_train = np.hstack([X_train, np.ones((X_train.shape[0], 1))])\n",
    "    X_val = np.hstack([X_val, np.ones((X_val.shape[0], 1))])\n",
    "    X_test = np.hstack([X_test, np.ones((X_test.shape[0], 1))])\n",
    "    X_dev = np.hstack([X_dev, np.ones((X_dev.shape[0], 1))])\n",
    "    \n",
    "    return X_train, y_train, X_val, y_val, X_test, y_test, X_dev, y_dev\n",
    "\n",
    "\n",
    "# Invoke the above function to get our data.\n",
    "X_train, y_train, X_val, y_val, X_test, y_test, X_dev, y_dev = get_CIFAR10_data()\n",
    "print('Train data shape: ', X_train.shape)\n",
    "print('Train labels shape: ', y_train.shape)\n",
    "print('Validation data shape: ', X_val.shape)\n",
    "print('Validation labels shape: ', y_val.shape)\n",
    "print('Test data shape: ', X_test.shape)\n",
    "print('Test labels shape: ', y_test.shape)\n",
    "print('dev data shape: ', X_dev.shape)\n",
    "print('dev labels shape: ', y_dev.shape)"
   ]
  },
  {
   "cell_type": "markdown",
   "metadata": {},
   "source": [
    "## Softmax Classifier\n",
    "\n",
    "Your code for this section will all be written inside `cs231n/classifiers/softmax.py`.\n"
   ]
  },
  {
   "cell_type": "code",
   "execution_count": 3,
   "metadata": {},
   "outputs": [
    {
     "name": "stdout",
     "output_type": "stream",
     "text": [
      "loss: 0.003248\n",
      "sanity check: 2.302585\n"
     ]
    }
   ],
   "source": [
    "# First implement the naive softmax loss function with nested loops.\n",
    "# Open the file cs231n/classifiers/softmax.py and implement the\n",
    "# softmax_loss_naive function.\n",
    "\n",
    "from cs231n.classifiers.softmax import softmax_loss_naive\n",
    "import time\n",
    "\n",
    "# Generate a random softmax weight matrix and use it to compute the loss.\n",
    "W = np.random.randn(3073, 10) * 0.0001\n",
    "loss, grad = softmax_loss_naive(W, X_dev, y_dev, 0.0)\n",
    "\n",
    "# As a rough sanity check, our loss should be something close to -log(0.1).\n",
    "print('loss: %f' % loss)\n",
    "print('sanity check: %f' % (-np.log(0.1)))"
   ]
  },
  {
   "cell_type": "markdown",
   "metadata": {
    "tags": [
     "pdf-inline"
    ]
   },
   "source": [
    "**Inline Question 1**\r\n",
    "\r\n",
    "Why do we expect our loss to be close to -log(0.1)? Explain briefly.**\r\n",
    "\r\n",
    "$\\color{blue}{\\textit Your Answer:}$ *The initialized W is small, so that all the scores value is close to 0. As for probability, the value is close to 0.1. Thus the loss value si close to -log(0.1).* \r\n",
    "\r\n"
   ]
  },
  {
   "cell_type": "code",
   "execution_count": 4,
   "metadata": {},
   "outputs": [
    {
     "name": "stdout",
     "output_type": "stream",
     "text": [
      "numerical: 0.021612 analytic: 0.021612, relative error: 6.937975e-08\n",
      "numerical: 0.003231 analytic: 0.003231, relative error: 2.175149e-09\n",
      "numerical: 0.012071 analytic: 0.012071, relative error: 1.612565e-08\n",
      "numerical: 0.010210 analytic: 0.010210, relative error: 1.548438e-08\n",
      "numerical: 0.012828 analytic: 0.012828, relative error: 4.157354e-08\n",
      "numerical: -0.000339 analytic: -0.000339, relative error: 2.992553e-11\n",
      "numerical: 0.017320 analytic: 0.017320, relative error: 4.455727e-08\n",
      "numerical: 0.019998 analytic: 0.019998, relative error: 6.661115e-08\n",
      "numerical: 0.012510 analytic: 0.012510, relative error: 2.145587e-08\n",
      "numerical: 0.008852 analytic: 0.008852, relative error: 7.066564e-08\n",
      "numerical: -0.010169 analytic: -0.010169, relative error: 4.115963e-10\n",
      "numerical: 0.020069 analytic: 0.020069, relative error: 3.311857e-09\n",
      "numerical: -0.003675 analytic: -0.003675, relative error: 9.220441e-11\n",
      "numerical: 0.024722 analytic: 0.024722, relative error: 5.331712e-08\n",
      "numerical: 0.002261 analytic: 0.002261, relative error: 3.134895e-08\n",
      "numerical: 0.005798 analytic: 0.005798, relative error: 4.166103e-09\n",
      "numerical: 0.012115 analytic: 0.012115, relative error: 6.949355e-10\n",
      "numerical: 0.003587 analytic: 0.003587, relative error: 4.060214e-12\n",
      "numerical: 0.021545 analytic: 0.021545, relative error: 7.837873e-08\n",
      "numerical: -0.082915 analytic: -0.082915, relative error: 2.820752e-09\n"
     ]
    }
   ],
   "source": [
    "# Complete the implementation of softmax_loss_naive and implement a (naive)\n",
    "# version of the gradient that uses nested loops.\n",
    "loss, grad = softmax_loss_naive(W, X_dev, y_dev, 0.0)\n",
    "\n",
    "# As we did for the SVM, use numeric gradient checking as a debugging tool.\n",
    "# The numeric gradient should be close to the analytic gradient.\n",
    "from cs231n.gradient_check import grad_check_sparse\n",
    "f = lambda w: softmax_loss_naive(w, X_dev, y_dev, 0.0)[0]\n",
    "grad_numerical = grad_check_sparse(f, W, grad, 10)\n",
    "\n",
    "# similar to SVM case, do another gradient check with regularization\n",
    "loss, grad = softmax_loss_naive(W, X_dev, y_dev, 5e1)\n",
    "f = lambda w: softmax_loss_naive(w, X_dev, y_dev, 5e1)[0]\n",
    "grad_numerical = grad_check_sparse(f, W, grad, 10)"
   ]
  },
  {
   "cell_type": "code",
   "execution_count": 5,
   "metadata": {},
   "outputs": [
    {
     "name": "stdout",
     "output_type": "stream",
     "text": [
      "naive loss: 3.247556e-03 computed in 0.028005s\n",
      "vectorized loss: 2.346702e+00 computed in 0.002001s\n",
      "Loss difference: 2.343455\n",
      "Gradient difference: 326.781306\n"
     ]
    }
   ],
   "source": [
    "# Now that we have a naive implementation of the softmax loss function and its gradient,\n",
    "# implement a vectorized version in softmax_loss_vectorized.\n",
    "# The two versions should compute the same results, but the vectorized version should be\n",
    "# much faster.\n",
    "tic = time.time()\n",
    "loss_naive, grad_naive = softmax_loss_naive(W, X_dev, y_dev, 0.000005)\n",
    "toc = time.time()\n",
    "print('naive loss: %e computed in %fs' % (loss_naive, toc - tic))\n",
    "\n",
    "from cs231n.classifiers.softmax import softmax_loss_vectorized\n",
    "tic = time.time()\n",
    "loss_vectorized, grad_vectorized = softmax_loss_vectorized(W, X_dev, y_dev, 0.000005)\n",
    "toc = time.time()\n",
    "print('vectorized loss: %e computed in %fs' % (loss_vectorized, toc - tic))\n",
    "\n",
    "# As we did for the SVM, we use the Frobenius norm to compare the two versions\n",
    "# of the gradient.\n",
    "grad_difference = np.linalg.norm(grad_naive - grad_vectorized, ord='fro')\n",
    "print('Loss difference: %f' % np.abs(loss_naive - loss_vectorized))\n",
    "print('Gradient difference: %f' % grad_difference)"
   ]
  },
  {
   "cell_type": "code",
   "execution_count": 6,
   "metadata": {
    "id": "tuning",
    "tags": [
     "code"
    ]
   },
   "outputs": [
    {
     "name": "stderr",
     "output_type": "stream",
     "text": [
      "e:\\2021Autumn-Winter\\CS231n-2021Spring\\assignment1\\cs231n\\classifiers\\softmax.py:82: RuntimeWarning: divide by zero encountered in log\n",
      "  loss = -np.sum(np.log(softmax_output[range(num_train), y]))\n",
      "e:\\2021Autumn-Winter\\CS231n-2021Spring\\assignment1\\cs231n\\classifiers\\softmax.py:84: RuntimeWarning: overflow encountered in double_scalars\n",
      "  loss +=  0.5* reg * np.sum(W * W)\n",
      "D:\\Python\\Python39\\lib\\site-packages\\numpy\\core\\fromnumeric.py:86: RuntimeWarning: overflow encountered in reduce\n",
      "  return ufunc.reduce(obj, axis, dtype, out, **passkwargs)\n",
      "e:\\2021Autumn-Winter\\CS231n-2021Spring\\assignment1\\cs231n\\classifiers\\softmax.py:84: RuntimeWarning: overflow encountered in multiply\n",
      "  loss +=  0.5* reg * np.sum(W * W)\n",
      "e:\\2021Autumn-Winter\\CS231n-2021Spring\\assignment1\\cs231n\\classifiers\\softmax.py:89: RuntimeWarning: overflow encountered in multiply\n",
      "  dW = dW/num_train + reg* W\n"
     ]
    },
    {
     "name": "stdout",
     "output_type": "stream",
     "text": [
      "lr 1.000000e-07 reg 2.500000e+04 train accuracy: 0.349735 val accuracy: 0.364000\n",
      "lr 1.000000e-07 reg 5.000000e+04 train accuracy: 0.331163 val accuracy: 0.338000\n",
      "lr 1.000000e-07 reg 1.000000e+08 train accuracy: 0.100265 val accuracy: 0.087000\n",
      "lr 2.000000e-07 reg 2.500000e+04 train accuracy: 0.350980 val accuracy: 0.369000\n",
      "lr 2.000000e-07 reg 5.000000e+04 train accuracy: 0.328918 val accuracy: 0.342000\n",
      "lr 2.000000e-07 reg 1.000000e+08 train accuracy: 0.100265 val accuracy: 0.087000\n",
      "lr 5.000000e-07 reg 2.500000e+04 train accuracy: 0.340490 val accuracy: 0.359000\n",
      "lr 5.000000e-07 reg 5.000000e+04 train accuracy: 0.325551 val accuracy: 0.349000\n",
      "lr 5.000000e-07 reg 1.000000e+08 train accuracy: 0.100265 val accuracy: 0.087000\n",
      "best validation accuracy achieved during cross-validation: 0.369000\n"
     ]
    }
   ],
   "source": [
    "# Use the validation set to tune hyperparameters (regularization strength and\r\n",
    "# learning rate). You should experiment with different ranges for the learning\r\n",
    "# rates and regularization strengths; if you are careful you should be able to\r\n",
    "# get a classification accuracy of over 0.35 on the validation set.\r\n",
    "\r\n",
    "from cs231n.classifiers import Softmax\r\n",
    "results = {}\r\n",
    "best_val = -1\r\n",
    "best_softmax = None\r\n",
    "\r\n",
    "################################################################################\r\n",
    "# TODO:                                                                        #\r\n",
    "# Use the validation set to set the learning rate and regularization strength. #\r\n",
    "# This should be identical to the validation that you did for the SVM; save    #\r\n",
    "# the best trained softmax classifer in best_softmax.                          #\r\n",
    "################################################################################\r\n",
    "\r\n",
    "# Provided as a reference. You may or may not want to change these hyperparameters\r\n",
    "learning_rates = [1e-7, 2e-7, 5e-7]\r\n",
    "regularization_strengths = [2.5e4, 5e4, 1e8]\r\n",
    "\r\n",
    "# *****START OF YOUR CODE (DO NOT DELETE/MODIFY THIS LINE)*****\r\n",
    "\r\n",
    "for lr in learning_rates:\r\n",
    "    for rs in regularization_strengths:\r\n",
    "        softmax = Softmax()\r\n",
    "        softmax.train(X_train, y_train, lr, rs, num_iters=2000)\r\n",
    "        y_train_pred = softmax.predict(X_train)\r\n",
    "        train_accuracy = np.mean(y_train == y_train_pred)\r\n",
    "        y_val_pred = softmax.predict(X_val)\r\n",
    "        val_accuracy = np.mean(y_val == y_val_pred)\r\n",
    "        if val_accuracy > best_val:\r\n",
    "            best_val = val_accuracy\r\n",
    "            best_softmax = softmax           \r\n",
    "        results[(lr,rs)] = train_accuracy, val_accuracy\r\n",
    "\r\n",
    "# *****END OF YOUR CODE (DO NOT DELETE/MODIFY THIS LINE)*****\r\n",
    "    \r\n",
    "# Print out results.\r\n",
    "for lr, reg in sorted(results):\r\n",
    "    train_accuracy, val_accuracy = results[(lr, reg)]\r\n",
    "    print('lr %e reg %e train accuracy: %f val accuracy: %f' % (\r\n",
    "                lr, reg, train_accuracy, val_accuracy))\r\n",
    "    \r\n",
    "print('best validation accuracy achieved during cross-validation: %f' % best_val)"
   ]
  },
  {
   "cell_type": "code",
   "execution_count": 7,
   "metadata": {
    "id": "test"
   },
   "outputs": [
    {
     "name": "stdout",
     "output_type": "stream",
     "text": [
      "softmax on raw pixels final test set accuracy: 0.360000\n"
     ]
    }
   ],
   "source": [
    "# evaluate on test set\n",
    "# Evaluate the best softmax on test set\n",
    "y_test_pred = best_softmax.predict(X_test)\n",
    "test_accuracy = np.mean(y_test == y_test_pred)\n",
    "print('softmax on raw pixels final test set accuracy: %f' % (test_accuracy, ))"
   ]
  },
  {
   "cell_type": "markdown",
   "metadata": {
    "tags": [
     "pdf-inline"
    ]
   },
   "source": [
    "**Inline Question 2** - *True or False*\r\n",
    "\r\n",
    "Suppose the overall training loss is defined as the sum of the per-datapoint loss over all training examples. It is possible to add a new datapoint to a training set that would leave the SVM loss unchanged, but this is not the case with the Softmax classifier loss.\r\n",
    "\r\n",
    "$\\color{blue}{\\textit Your Answer:}$ True\r\n",
    "\r\n",
    "\r\n",
    "$\\color{blue}{\\textit Your Explanation:}$ *在SVM中，只要这个新的数据点的正确类的分数很大，使得max(0, sj-si+1)产出都是0，就不会产生loss。在Softmax中，想要产生0的loss，必须正确类的概率为1，但是scores经过exp后都是大于零的，即不可能有1的概率，故总的loss必发生改变。*\r\n",
    "\r\n"
   ]
  },
  {
   "cell_type": "code",
   "execution_count": 8,
   "metadata": {},
   "outputs": [
    {
     "data": {
      "image/png": "[encoded data removed]",
      "text/plain": [
       "<Figure size 720x576 with 10 Axes>"
      ]
     },
     "metadata": {
      "needs_background": "light"
     },
     "output_type": "display_data"
    }
   ],
   "source": [
    "# Visualize the learned weights for each class\n",
    "w = best_softmax.W[:-1,:] # strip out the bias\n",
    "w = w.reshape(32, 32, 3, 10)\n",
    "\n",
    "w_min, w_max = np.min(w), np.max(w)\n",
    "\n",
    "classes = ['plane', 'car', 'bird', 'cat', 'deer', 'dog', 'frog', 'horse', 'ship', 'truck']\n",
    "for i in range(10):\n",
    "    plt.subplot(2, 5, i + 1)\n",
    "    \n",
    "    # Rescale the weights to be between 0 and 255\n",
    "    wimg = 255.0 * (w[:, :, :, i].squeeze() - w_min) / (w_max - w_min)\n",
    "    plt.imshow(wimg.astype('uint8'))\n",
    "    plt.axis('off')\n",
    "    plt.title(classes[i])"
   ]
  }
 ],
 "metadata": {
  "interpreter": {
   "hash": "fcf1d46d271c46101d6967829d4a5f475342a2ce08e4944f989fbcdc9bb23690"
  },
  "kernelspec": {
   "display_name": "Python 3.9.6 64-bit",
   "name": "python3"
  },
  "language_info": {
   "codemirror_mode": {
    "name": "ipython",
    "version": 3
   },
   "file_extension": ".py",
   "mimetype": "text/x-python",
   "name": "python",
   "nbconvert_exporter": "python",
   "pygments_lexer": "ipython3",
   "version": "3.9.6"
  }
 },
 "nbformat": 4,
 "nbformat_minor": 4
}