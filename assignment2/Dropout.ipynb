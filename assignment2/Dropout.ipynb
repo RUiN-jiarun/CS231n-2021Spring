{
 "cells": [
  {
   "cell_type": "markdown",
   "metadata": {
    "tags": [
     "pdf-title"
    ]
   },
   "source": [
    "# Dropout\n",
    "Dropout [1] is a technique for regularizing neural networks by randomly setting some output activations to zero during the forward pass. In this exercise, you will implement a dropout layer and modify your fully connected network to optionally use dropout.\n",
    "\n",
    "[1] [Geoffrey E. Hinton et al, \"Improving neural networks by preventing co-adaptation of feature detectors\", arXiv 2012](https://arxiv.org/abs/1207.0580)"
   ]
  },
  {
   "cell_type": "code",
   "execution_count": 1,
   "metadata": {
    "tags": [
     "pdf-ignore"
    ]
   },
   "outputs": [
    {
     "name": "stdout",
     "output_type": "stream",
     "text": [
      "=========== You can safely ignore the message below if you are NOT working on ConvolutionalNetworks.ipynb ===========\n",
      "\tYou will need to compile a Cython extension for a portion of this assignment.\n",
      "\tThe instructions to do this will be given in a section of the notebook below.\n"
     ]
    }
   ],
   "source": [
    "# Setup cell.\n",
    "import time\n",
    "import numpy as np\n",
    "import matplotlib.pyplot as plt\n",
    "from cs231n.classifiers.fc_net import *\n",
    "from cs231n.data_utils import get_CIFAR10_data\n",
    "from cs231n.gradient_check import eval_numerical_gradient, eval_numerical_gradient_array\n",
    "from cs231n.solver import Solver\n",
    "\n",
    "%matplotlib inline\n",
    "plt.rcParams[\"figure.figsize\"] = (10.0, 8.0)  # Set default size of plots.\n",
    "plt.rcParams[\"image.interpolation\"] = \"nearest\"\n",
    "plt.rcParams[\"image.cmap\"] = \"gray\"\n",
    "\n",
    "%load_ext autoreload\n",
    "%autoreload 2\n",
    "\n",
    "def rel_error(x, y):\n",
    "    \"\"\"Returns relative error.\"\"\"\n",
    "    return np.max(np.abs(x - y) / (np.maximum(1e-8, np.abs(x) + np.abs(y))))"
   ]
  },
  {
   "cell_type": "code",
   "execution_count": 2,
   "metadata": {
    "tags": [
     "pdf-ignore"
    ]
   },
   "outputs": [
    {
     "name": "stdout",
     "output_type": "stream",
     "text": [
      "X_train: (49000, 3, 32, 32)\n",
      "y_train: (49000,)\n",
      "X_val: (1000, 3, 32, 32)\n",
      "y_val: (1000,)\n",
      "X_test: (1000, 3, 32, 32)\n",
      "y_test: (1000,)\n"
     ]
    }
   ],
   "source": [
    "# Load the (preprocessed) CIFAR-10 data.\n",
    "data = get_CIFAR10_data()\n",
    "for k, v in list(data.items()):\n",
    "    print(f\"{k}: {v.shape}\")"
   ]
  },
  {
   "cell_type": "markdown",
   "metadata": {},
   "source": [
    "# Dropout: Forward Pass\n",
    "In the file `cs231n/layers.py`, implement the forward pass for dropout. Since dropout behaves differently during training and testing, make sure to implement the operation for both modes.\n",
    "\n",
    "Once you have done so, run the cell below to test your implementation."
   ]
  },
  {
   "cell_type": "code",
   "execution_count": 3,
   "metadata": {},
   "outputs": [
    {
     "name": "stdout",
     "output_type": "stream",
     "text": [
      "Running tests with p =  0.25\n",
      "Mean of input:  10.000207878477502\n",
      "Mean of train-time output:  9.99559079897757\n",
      "Mean of test-time output:  10.000207878477502\n",
      "Fraction of train-time output set to zero:  0.250216\n",
      "Fraction of test-time output set to zero:  0.0\n",
      "\n",
      "Running tests with p =  0.4\n",
      "Mean of input:  10.000207878477502\n",
      "Mean of train-time output:  10.01506802495506\n",
      "Mean of test-time output:  10.000207878477502\n",
      "Fraction of train-time output set to zero:  0.399204\n",
      "Fraction of test-time output set to zero:  0.0\n",
      "\n",
      "Running tests with p =  0.7\n",
      "Mean of input:  10.000207878477502\n",
      "Mean of train-time output:  10.029131799886338\n",
      "Mean of test-time output:  10.000207878477502\n",
      "Fraction of train-time output set to zero:  0.69926\n",
      "Fraction of test-time output set to zero:  0.0\n",
      "\n"
     ]
    }
   ],
   "source": [
    "np.random.seed(231)\n",
    "x = np.random.randn(500, 500) + 10\n",
    "\n",
    "for p in [0.25, 0.4, 0.7]:\n",
    "    out, _ = dropout_forward(x, {'mode': 'train', 'p': p})\n",
    "    out_test, _ = dropout_forward(x, {'mode': 'test', 'p': p})\n",
    "\n",
    "    print('Running tests with p = ', p)\n",
    "    print('Mean of input: ', x.mean())\n",
    "    print('Mean of train-time output: ', out.mean())\n",
    "    print('Mean of test-time output: ', out_test.mean())\n",
    "    print('Fraction of train-time output set to zero: ', (out == 0).mean())\n",
    "    print('Fraction of test-time output set to zero: ', (out_test == 0).mean())\n",
    "    print()"
   ]
  },
  {
   "cell_type": "markdown",
   "metadata": {},
   "source": [
    "# Dropout: Backward Pass\n",
    "In the file `cs231n/layers.py`, implement the backward pass for dropout. After doing so, run the following cell to numerically gradient-check your implementation."
   ]
  },
  {
   "cell_type": "code",
   "execution_count": 4,
   "metadata": {},
   "outputs": [
    {
     "name": "stdout",
     "output_type": "stream",
     "text": [
      "dx relative error:  5.445612718272284e-11\n"
     ]
    }
   ],
   "source": [
    "np.random.seed(231)\n",
    "x = np.random.randn(10, 10) + 10\n",
    "dout = np.random.randn(*x.shape)\n",
    "\n",
    "dropout_param = {'mode': 'train', 'p': 0.2, 'seed': 123}\n",
    "out, cache = dropout_forward(x, dropout_param)\n",
    "dx = dropout_backward(dout, cache)\n",
    "dx_num = eval_numerical_gradient_array(lambda xx: dropout_forward(xx, dropout_param)[0], x, dout)\n",
    "\n",
    "# Error should be around e-10 or less.\n",
    "print('dx relative error: ', rel_error(dx, dx_num))"
   ]
  },
  {
   "cell_type": "markdown",
   "metadata": {
    "tags": [
     "pdf-inline"
    ]
   },
   "source": [
    "## Inline Question 1:\r\n",
    "What happens if we do not divide the values being passed through inverse dropout by `p` in the dropout layer? Why does that happen?\r\n",
    "\r\n",
    "## Answer:\r\n",
    "Literally that's NOT doing the dropout.\r\n"
   ]
  },
  {
   "cell_type": "markdown",
   "metadata": {},
   "source": [
    "# Fully Connected Networks with Dropout\n",
    "In the file `cs231n/classifiers/fc_net.py`, modify your implementation to use dropout. Specifically, if the constructor of the network receives a value that is not 1 for the `dropout_keep_ratio` parameter, then the net should add a dropout layer immediately after every ReLU nonlinearity. After doing so, run the following to numerically gradient-check your implementation."
   ]
  },
  {
   "cell_type": "code",
   "execution_count": 5,
   "metadata": {},
   "outputs": [
    {
     "name": "stdout",
     "output_type": "stream",
     "text": [
      "Running check with dropout =  1\n",
      "Initial loss:  2.300479089768492\n",
      "W1 relative error: 1.03e-07\n",
      "W2 relative error: 2.21e-05\n",
      "W3 relative error: 4.56e-07\n",
      "b1 relative error: 4.66e-09\n",
      "b2 relative error: 2.09e-09\n",
      "b3 relative error: 1.69e-10\n",
      "\n",
      "Running check with dropout =  0.75\n",
      "Initial loss:  2.3001748924793235\n",
      "W1 relative error: 3.05e-08\n",
      "W2 relative error: 2.05e-09\n",
      "W3 relative error: 1.93e-09\n",
      "b1 relative error: 8.86e-10\n",
      "b2 relative error: 1.00e+00\n",
      "b3 relative error: 6.54e-11\n",
      "\n",
      "Running check with dropout =  0.5\n",
      "Initial loss:  2.310136908722148\n",
      "W1 relative error: 2.57e-08\n",
      "W2 relative error: 1.49e-08\n",
      "W3 relative error: 4.49e-08\n",
      "b1 relative error: 3.93e-10\n",
      "b2 relative error: 1.91e-09\n",
      "b3 relative error: 9.51e-11\n",
      "\n"
     ]
    }
   ],
   "source": [
    "np.random.seed(231)\n",
    "N, D, H1, H2, C = 2, 15, 20, 30, 10\n",
    "X = np.random.randn(N, D)\n",
    "y = np.random.randint(C, size=(N,))\n",
    "\n",
    "for dropout_keep_ratio in [1, 0.75, 0.5]:\n",
    "    print('Running check with dropout = ', dropout_keep_ratio)\n",
    "    model = FullyConnectedNet(\n",
    "        [H1, H2],\n",
    "        input_dim=D,\n",
    "        num_classes=C,\n",
    "        weight_scale=5e-2,\n",
    "        dtype=np.float64,\n",
    "        dropout_keep_ratio=dropout_keep_ratio,\n",
    "        seed=123\n",
    "    )\n",
    "\n",
    "    loss, grads = model.loss(X, y)\n",
    "    print('Initial loss: ', loss)\n",
    "\n",
    "    # Relative errors should be around e-6 or less.\n",
    "    # Note that it's fine if for dropout_keep_ratio=1 you have W2 error be on the order of e-5.\n",
    "    for name in sorted(grads):\n",
    "        f = lambda _: model.loss(X, y)[0]\n",
    "        grad_num = eval_numerical_gradient(f, model.params[name], verbose=False, h=1e-5)\n",
    "        print('%s relative error: %.2e' % (name, rel_error(grad_num, grads[name])))\n",
    "    print()"
   ]
  },
  {
   "cell_type": "markdown",
   "metadata": {},
   "source": [
    "# Regularization Experiment\n",
    "As an experiment, we will train a pair of two-layer networks on 500 training examples: one will use no dropout, and one will use a keep probability of 0.25. We will then visualize the training and validation accuracies of the two networks over time."
   ]
  },
  {
   "cell_type": "code",
   "execution_count": 6,
   "metadata": {
    "scrolled": false
   },
   "outputs": [
    {
     "name": "stdout",
     "output_type": "stream",
     "text": [
      "1\n",
      "(Iteration 1 / 125) loss: 7.856644\n"
     ]
    },
    {
     "name": "stderr",
     "output_type": "stream",
     "text": [
      "e:\\2021Autumn-Winter\\CS231n-2021Spring\\assignment2\\cs231n\\layers.py:152: RuntimeWarning: divide by zero encountered in log\n",
      "  loss = -np.sum(np.log(pro[range(num_train), y]))\n"
     ]
    },
    {
     "name": "stdout",
     "output_type": "stream",
     "text": [
      "(Epoch 0 / 25) train acc: 0.260000; val_acc: 0.184000\n",
      "(Epoch 1 / 25) train acc: 0.416000; val_acc: 0.258000\n",
      "(Epoch 2 / 25) train acc: 0.482000; val_acc: 0.276000\n",
      "(Epoch 3 / 25) train acc: 0.532000; val_acc: 0.277000\n",
      "(Epoch 4 / 25) train acc: 0.600000; val_acc: 0.271000\n",
      "(Epoch 5 / 25) train acc: 0.708000; val_acc: 0.299000\n",
      "(Epoch 6 / 25) train acc: 0.722000; val_acc: 0.282000\n",
      "(Epoch 7 / 25) train acc: 0.832000; val_acc: 0.255000\n",
      "(Epoch 8 / 25) train acc: 0.880000; val_acc: 0.268000\n",
      "(Epoch 9 / 25) train acc: 0.902000; val_acc: 0.277000\n",
      "(Epoch 10 / 25) train acc: 0.898000; val_acc: 0.261000\n",
      "(Epoch 11 / 25) train acc: 0.924000; val_acc: 0.263000\n",
      "(Epoch 12 / 25) train acc: 0.960000; val_acc: 0.299000\n",
      "(Epoch 13 / 25) train acc: 0.972000; val_acc: 0.314000\n",
      "(Epoch 14 / 25) train acc: 0.972000; val_acc: 0.310000\n",
      "(Epoch 15 / 25) train acc: 0.974000; val_acc: 0.314000\n",
      "(Epoch 16 / 25) train acc: 0.994000; val_acc: 0.304000\n",
      "(Epoch 17 / 25) train acc: 0.970000; val_acc: 0.304000\n",
      "(Epoch 18 / 25) train acc: 0.990000; val_acc: 0.311000\n",
      "(Epoch 19 / 25) train acc: 0.988000; val_acc: 0.305000\n",
      "(Epoch 20 / 25) train acc: 0.994000; val_acc: 0.285000\n",
      "(Iteration 101 / 125) loss: 0.001523\n",
      "(Epoch 21 / 25) train acc: 0.994000; val_acc: 0.293000\n",
      "(Epoch 22 / 25) train acc: 0.998000; val_acc: 0.303000\n",
      "(Epoch 23 / 25) train acc: 0.998000; val_acc: 0.311000\n",
      "(Epoch 24 / 25) train acc: 0.998000; val_acc: 0.315000\n",
      "(Epoch 25 / 25) train acc: 0.998000; val_acc: 0.309000\n",
      "\n",
      "0.25\n",
      "(Iteration 1 / 125) loss: 11.814032\n",
      "(Epoch 0 / 25) train acc: 0.264000; val_acc: 0.193000\n",
      "(Epoch 1 / 25) train acc: 0.368000; val_acc: 0.244000\n",
      "(Epoch 2 / 25) train acc: 0.528000; val_acc: 0.264000\n",
      "(Epoch 3 / 25) train acc: 0.586000; val_acc: 0.257000\n",
      "(Epoch 4 / 25) train acc: 0.642000; val_acc: 0.290000\n",
      "(Epoch 5 / 25) train acc: 0.756000; val_acc: 0.292000\n",
      "(Epoch 6 / 25) train acc: 0.784000; val_acc: 0.277000\n",
      "(Epoch 7 / 25) train acc: 0.818000; val_acc: 0.275000\n",
      "(Epoch 8 / 25) train acc: 0.814000; val_acc: 0.258000\n",
      "(Epoch 9 / 25) train acc: 0.880000; val_acc: 0.322000\n",
      "(Epoch 10 / 25) train acc: 0.908000; val_acc: 0.293000\n",
      "(Epoch 11 / 25) train acc: 0.918000; val_acc: 0.290000\n",
      "(Epoch 12 / 25) train acc: 0.922000; val_acc: 0.269000\n",
      "(Epoch 13 / 25) train acc: 0.950000; val_acc: 0.303000\n",
      "(Epoch 14 / 25) train acc: 0.924000; val_acc: 0.306000\n",
      "(Epoch 15 / 25) train acc: 0.926000; val_acc: 0.300000\n",
      "(Epoch 16 / 25) train acc: 0.942000; val_acc: 0.282000\n",
      "(Epoch 17 / 25) train acc: 0.972000; val_acc: 0.303000\n",
      "(Epoch 18 / 25) train acc: 0.934000; val_acc: 0.303000\n",
      "(Epoch 19 / 25) train acc: 0.958000; val_acc: 0.294000\n",
      "(Epoch 20 / 25) train acc: 0.958000; val_acc: 0.300000\n",
      "(Iteration 101 / 125) loss: 0.379385\n",
      "(Epoch 21 / 25) train acc: 0.974000; val_acc: 0.305000\n",
      "(Epoch 22 / 25) train acc: 0.952000; val_acc: 0.288000\n",
      "(Epoch 23 / 25) train acc: 0.972000; val_acc: 0.311000\n",
      "(Epoch 24 / 25) train acc: 0.972000; val_acc: 0.302000\n",
      "(Epoch 25 / 25) train acc: 0.978000; val_acc: 0.295000\n",
      "\n",
      "0.5\n",
      "(Iteration 1 / 125) loss: 14.407444\n",
      "(Epoch 0 / 25) train acc: 0.234000; val_acc: 0.178000\n",
      "(Epoch 1 / 25) train acc: 0.338000; val_acc: 0.202000\n",
      "(Epoch 2 / 25) train acc: 0.520000; val_acc: 0.296000\n",
      "(Epoch 3 / 25) train acc: 0.568000; val_acc: 0.312000\n",
      "(Epoch 4 / 25) train acc: 0.642000; val_acc: 0.296000\n",
      "(Epoch 5 / 25) train acc: 0.692000; val_acc: 0.300000\n",
      "(Epoch 6 / 25) train acc: 0.690000; val_acc: 0.282000\n",
      "(Epoch 7 / 25) train acc: 0.758000; val_acc: 0.296000\n",
      "(Epoch 8 / 25) train acc: 0.828000; val_acc: 0.299000\n",
      "(Epoch 9 / 25) train acc: 0.858000; val_acc: 0.298000\n",
      "(Epoch 10 / 25) train acc: 0.868000; val_acc: 0.317000\n",
      "(Epoch 11 / 25) train acc: 0.858000; val_acc: 0.305000\n",
      "(Epoch 12 / 25) train acc: 0.894000; val_acc: 0.307000\n",
      "(Epoch 13 / 25) train acc: 0.904000; val_acc: 0.322000\n",
      "(Epoch 14 / 25) train acc: 0.928000; val_acc: 0.304000\n",
      "(Epoch 15 / 25) train acc: 0.912000; val_acc: 0.302000\n",
      "(Epoch 16 / 25) train acc: 0.920000; val_acc: 0.294000\n",
      "(Epoch 17 / 25) train acc: 0.940000; val_acc: 0.295000\n",
      "(Epoch 18 / 25) train acc: 0.964000; val_acc: 0.295000\n",
      "(Epoch 19 / 25) train acc: 0.970000; val_acc: 0.324000\n",
      "(Epoch 20 / 25) train acc: 0.974000; val_acc: 0.314000\n",
      "(Iteration 101 / 125) loss: 1.055368\n",
      "(Epoch 21 / 25) train acc: 0.966000; val_acc: 0.301000\n",
      "(Epoch 22 / 25) train acc: 0.986000; val_acc: 0.317000\n",
      "(Epoch 23 / 25) train acc: 0.956000; val_acc: 0.320000\n",
      "(Epoch 24 / 25) train acc: 0.988000; val_acc: 0.320000\n",
      "(Epoch 25 / 25) train acc: 0.976000; val_acc: 0.318000\n",
      "\n",
      "0.75\n",
      "(Iteration 1 / 125) loss: 17.152457\n",
      "(Epoch 0 / 25) train acc: 0.230000; val_acc: 0.172000\n",
      "(Epoch 1 / 25) train acc: 0.352000; val_acc: 0.232000\n",
      "(Epoch 2 / 25) train acc: 0.478000; val_acc: 0.280000\n",
      "(Epoch 3 / 25) train acc: 0.542000; val_acc: 0.298000\n",
      "(Epoch 4 / 25) train acc: 0.594000; val_acc: 0.313000\n",
      "(Epoch 5 / 25) train acc: 0.616000; val_acc: 0.319000\n",
      "(Epoch 6 / 25) train acc: 0.690000; val_acc: 0.336000\n",
      "(Epoch 7 / 25) train acc: 0.692000; val_acc: 0.325000\n",
      "(Epoch 8 / 25) train acc: 0.714000; val_acc: 0.304000\n",
      "(Epoch 9 / 25) train acc: 0.748000; val_acc: 0.296000\n",
      "(Epoch 10 / 25) train acc: 0.800000; val_acc: 0.309000\n",
      "(Epoch 11 / 25) train acc: 0.802000; val_acc: 0.321000\n",
      "(Epoch 12 / 25) train acc: 0.792000; val_acc: 0.330000\n",
      "(Epoch 13 / 25) train acc: 0.812000; val_acc: 0.304000\n",
      "(Epoch 14 / 25) train acc: 0.834000; val_acc: 0.316000\n",
      "(Epoch 15 / 25) train acc: 0.834000; val_acc: 0.311000\n",
      "(Epoch 16 / 25) train acc: 0.836000; val_acc: 0.307000\n",
      "(Epoch 17 / 25) train acc: 0.892000; val_acc: 0.314000\n",
      "(Epoch 18 / 25) train acc: 0.894000; val_acc: 0.302000\n",
      "(Epoch 19 / 25) train acc: 0.894000; val_acc: 0.283000\n",
      "(Epoch 20 / 25) train acc: 0.910000; val_acc: 0.316000\n",
      "(Iteration 101 / 125) loss: 5.470398\n",
      "(Epoch 21 / 25) train acc: 0.884000; val_acc: 0.321000\n",
      "(Epoch 22 / 25) train acc: 0.910000; val_acc: 0.308000\n",
      "(Epoch 23 / 25) train acc: 0.900000; val_acc: 0.299000\n",
      "(Epoch 24 / 25) train acc: 0.918000; val_acc: 0.331000\n",
      "(Epoch 25 / 25) train acc: 0.926000; val_acc: 0.325000\n",
      "\n",
      "0.9\n",
      "(Iteration 1 / 125) loss: 29.856768\n",
      "(Epoch 0 / 25) train acc: 0.188000; val_acc: 0.141000\n",
      "(Epoch 1 / 25) train acc: 0.316000; val_acc: 0.213000\n",
      "(Epoch 2 / 25) train acc: 0.378000; val_acc: 0.277000\n",
      "(Epoch 3 / 25) train acc: 0.420000; val_acc: 0.289000\n",
      "(Epoch 4 / 25) train acc: 0.438000; val_acc: 0.289000\n",
      "(Epoch 5 / 25) train acc: 0.460000; val_acc: 0.283000\n",
      "(Epoch 6 / 25) train acc: 0.478000; val_acc: 0.289000\n",
      "(Epoch 7 / 25) train acc: 0.554000; val_acc: 0.313000\n",
      "(Epoch 8 / 25) train acc: 0.552000; val_acc: 0.317000\n",
      "(Epoch 9 / 25) train acc: 0.580000; val_acc: 0.317000\n",
      "(Epoch 10 / 25) train acc: 0.612000; val_acc: 0.321000\n",
      "(Epoch 11 / 25) train acc: 0.630000; val_acc: 0.339000\n",
      "(Epoch 12 / 25) train acc: 0.642000; val_acc: 0.323000\n",
      "(Epoch 13 / 25) train acc: 0.650000; val_acc: 0.315000\n",
      "(Epoch 14 / 25) train acc: 0.670000; val_acc: 0.332000\n",
      "(Epoch 15 / 25) train acc: 0.678000; val_acc: 0.325000\n",
      "(Epoch 16 / 25) train acc: 0.646000; val_acc: 0.331000\n",
      "(Epoch 17 / 25) train acc: 0.652000; val_acc: 0.317000\n",
      "(Epoch 18 / 25) train acc: 0.674000; val_acc: 0.330000\n",
      "(Epoch 19 / 25) train acc: 0.730000; val_acc: 0.349000\n",
      "(Epoch 20 / 25) train acc: 0.678000; val_acc: 0.327000\n",
      "(Iteration 101 / 125) loss: 15.521309\n",
      "(Epoch 21 / 25) train acc: 0.682000; val_acc: 0.315000\n",
      "(Epoch 22 / 25) train acc: 0.706000; val_acc: 0.307000\n",
      "(Epoch 23 / 25) train acc: 0.712000; val_acc: 0.307000\n",
      "(Epoch 24 / 25) train acc: 0.726000; val_acc: 0.324000\n",
      "(Epoch 25 / 25) train acc: 0.748000; val_acc: 0.319000\n",
      "\n",
      "0.99\n",
      "(Iteration 1 / 125) loss: inf\n",
      "(Epoch 0 / 25) train acc: 0.124000; val_acc: 0.114000\n",
      "(Epoch 1 / 25) train acc: 0.192000; val_acc: 0.176000\n",
      "(Epoch 2 / 25) train acc: 0.216000; val_acc: 0.198000\n",
      "(Epoch 3 / 25) train acc: 0.230000; val_acc: 0.214000\n",
      "(Epoch 4 / 25) train acc: 0.258000; val_acc: 0.221000\n",
      "(Epoch 5 / 25) train acc: 0.282000; val_acc: 0.235000\n",
      "(Epoch 6 / 25) train acc: 0.304000; val_acc: 0.254000\n",
      "(Epoch 7 / 25) train acc: 0.320000; val_acc: 0.262000\n",
      "(Epoch 8 / 25) train acc: 0.324000; val_acc: 0.268000\n",
      "(Epoch 9 / 25) train acc: 0.328000; val_acc: 0.260000\n",
      "(Epoch 10 / 25) train acc: 0.322000; val_acc: 0.258000\n",
      "(Epoch 11 / 25) train acc: 0.322000; val_acc: 0.257000\n",
      "(Epoch 12 / 25) train acc: 0.334000; val_acc: 0.269000\n",
      "(Epoch 13 / 25) train acc: 0.342000; val_acc: 0.271000\n",
      "(Epoch 14 / 25) train acc: 0.344000; val_acc: 0.277000\n",
      "(Epoch 15 / 25) train acc: 0.344000; val_acc: 0.276000\n",
      "(Epoch 16 / 25) train acc: 0.342000; val_acc: 0.277000\n",
      "(Epoch 17 / 25) train acc: 0.356000; val_acc: 0.266000\n",
      "(Epoch 18 / 25) train acc: 0.360000; val_acc: 0.280000\n",
      "(Epoch 19 / 25) train acc: 0.354000; val_acc: 0.266000\n",
      "(Epoch 20 / 25) train acc: 0.370000; val_acc: 0.276000\n",
      "(Iteration 101 / 125) loss: 64.663979\n",
      "(Epoch 21 / 25) train acc: 0.374000; val_acc: 0.278000\n",
      "(Epoch 22 / 25) train acc: 0.372000; val_acc: 0.279000\n",
      "(Epoch 23 / 25) train acc: 0.370000; val_acc: 0.282000\n",
      "(Epoch 24 / 25) train acc: 0.352000; val_acc: 0.278000\n",
      "(Epoch 25 / 25) train acc: 0.314000; val_acc: 0.263000\n",
      "\n",
      "0\n",
      "(Iteration 1 / 125) loss: 9.388145\n",
      "(Epoch 0 / 25) train acc: 0.230000; val_acc: 0.195000\n",
      "(Epoch 1 / 25) train acc: 0.362000; val_acc: 0.233000\n",
      "(Epoch 2 / 25) train acc: 0.486000; val_acc: 0.238000\n",
      "(Epoch 3 / 25) train acc: 0.564000; val_acc: 0.298000\n",
      "(Epoch 4 / 25) train acc: 0.650000; val_acc: 0.279000\n",
      "(Epoch 5 / 25) train acc: 0.668000; val_acc: 0.242000\n",
      "(Epoch 6 / 25) train acc: 0.792000; val_acc: 0.280000\n",
      "(Epoch 7 / 25) train acc: 0.872000; val_acc: 0.307000\n",
      "(Epoch 8 / 25) train acc: 0.850000; val_acc: 0.268000\n",
      "(Epoch 9 / 25) train acc: 0.904000; val_acc: 0.288000\n",
      "(Epoch 10 / 25) train acc: 0.934000; val_acc: 0.259000\n",
      "(Epoch 11 / 25) train acc: 0.914000; val_acc: 0.261000\n",
      "(Epoch 12 / 25) train acc: 0.940000; val_acc: 0.289000\n",
      "(Epoch 13 / 25) train acc: 0.914000; val_acc: 0.269000\n",
      "(Epoch 14 / 25) train acc: 0.954000; val_acc: 0.277000\n",
      "(Epoch 15 / 25) train acc: 0.982000; val_acc: 0.288000\n",
      "(Epoch 16 / 25) train acc: 0.990000; val_acc: 0.278000\n",
      "(Epoch 17 / 25) train acc: 0.984000; val_acc: 0.275000\n",
      "(Epoch 18 / 25) train acc: 0.980000; val_acc: 0.270000\n",
      "(Epoch 19 / 25) train acc: 0.986000; val_acc: 0.282000\n",
      "(Epoch 20 / 25) train acc: 0.982000; val_acc: 0.277000\n",
      "(Iteration 101 / 125) loss: 0.150581\n",
      "(Epoch 21 / 25) train acc: 0.996000; val_acc: 0.262000\n",
      "(Epoch 22 / 25) train acc: 0.988000; val_acc: 0.266000\n",
      "(Epoch 23 / 25) train acc: 0.990000; val_acc: 0.274000\n",
      "(Epoch 24 / 25) train acc: 0.996000; val_acc: 0.286000\n",
      "(Epoch 25 / 25) train acc: 0.990000; val_acc: 0.286000\n",
      "\n"
     ]
    }
   ],
   "source": [
    "# Train two identical nets, one with dropout and one without.\r\n",
    "np.random.seed(231)\r\n",
    "num_train = 500\r\n",
    "small_data = {\r\n",
    "    'X_train': data['X_train'][:num_train],\r\n",
    "    'y_train': data['y_train'][:num_train],\r\n",
    "    'X_val': data['X_val'],\r\n",
    "    'y_val': data['y_val'],\r\n",
    "}\r\n",
    "\r\n",
    "solvers = {}\r\n",
    "dropout_choices = [1, 0.25, 0.5, 0.75, 0.9, 0.99, 0]\r\n",
    "for dropout_keep_ratio in dropout_choices:\r\n",
    "    model = FullyConnectedNet(\r\n",
    "        [500],\r\n",
    "        dropout_keep_ratio=dropout_keep_ratio\r\n",
    "    )\r\n",
    "    print(dropout_keep_ratio)\r\n",
    "\r\n",
    "    solver = Solver(\r\n",
    "        model,\r\n",
    "        small_data,\r\n",
    "        num_epochs=25,\r\n",
    "        batch_size=100,\r\n",
    "        update_rule='adam',\r\n",
    "        optim_config={'learning_rate': 5e-4,},\r\n",
    "        verbose=True,\r\n",
    "        print_every=100\r\n",
    "    )\r\n",
    "    solver.train()\r\n",
    "    solvers[dropout_keep_ratio] = solver\r\n",
    "    print()"
   ]
  },
  {
   "cell_type": "code",
   "execution_count": 7,
   "metadata": {},
   "outputs": [
    {
     "data": {
      "image/png": "[encoded data removed]",
      "text/plain": [
       "<Figure size 1080x1080 with 2 Axes>"
      ]
     },
     "metadata": {
      "needs_background": "light"
     },
     "output_type": "display_data"
    }
   ],
   "source": [
    "# Plot train and validation accuracies of the two models.\n",
    "train_accs = []\n",
    "val_accs = []\n",
    "for dropout_keep_ratio in dropout_choices:\n",
    "    solver = solvers[dropout_keep_ratio]\n",
    "    train_accs.append(solver.train_acc_history[-1])\n",
    "    val_accs.append(solver.val_acc_history[-1])\n",
    "\n",
    "plt.subplot(3, 1, 1)\n",
    "for dropout_keep_ratio in dropout_choices:\n",
    "    plt.plot(\n",
    "        solvers[dropout_keep_ratio].train_acc_history, 'o', label='%.2f dropout_keep_ratio' % dropout_keep_ratio)\n",
    "plt.title('Train accuracy')\n",
    "plt.xlabel('Epoch')\n",
    "plt.ylabel('Accuracy')\n",
    "plt.legend(ncol=2, loc='lower right')\n",
    "  \n",
    "plt.subplot(3, 1, 2)\n",
    "for dropout_keep_ratio in dropout_choices:\n",
    "    plt.plot(\n",
    "        solvers[dropout_keep_ratio].val_acc_history, 'o', label='%.2f dropout_keep_ratio' % dropout_keep_ratio)\n",
    "plt.title('Val accuracy')\n",
    "plt.xlabel('Epoch')\n",
    "plt.ylabel('Accuracy')\n",
    "plt.legend(ncol=2, loc='lower right')\n",
    "\n",
    "plt.gcf().set_size_inches(15, 15)\n",
    "plt.show()"
   ]
  },
  {
   "cell_type": "markdown",
   "metadata": {
    "tags": [
     "pdf-inline"
    ]
   },
   "source": [
    "## Inline Question 2:\r\n",
    "Compare the validation and training accuracies with and without dropout -- what do your results suggest about dropout as a regularizer?\r\n",
    "\r\n",
    "## Answer:\r\n",
    "Dropout can prevent overfitting.\r\n"
   ]
  },
  {
   "cell_type": "markdown",
   "metadata": {
    "tags": [
     "pdf-inline"
    ]
   },
   "source": [
    "## Inline Question 3:\r\n",
    "Suppose we are training a deep fully connected network for image classification, with dropout after hidden layers (parameterized by keep probability `p`). If we are concerned about overfitting, how should we modify `p` (if at all) when we decide to decrease the size of the hidden layers (that is, the number of nodes in each layer)?\r\n",
    "\r\n",
    "## Answer:\r\n",
    "Modify p to cut down the complexity of the network.\r\n"
   ]
  }
 ],
 "metadata": {
  "interpreter": {
   "hash": "fcf1d46d271c46101d6967829d4a5f475342a2ce08e4944f989fbcdc9bb23690"
  },
  "kernelspec": {
   "display_name": "Python 3.9.6 64-bit",
   "name": "python3"
  },
  "language_info": {
   "codemirror_mode": {
    "name": "ipython",
    "version": 3
   },
   "file_extension": ".py",
   "mimetype": "text/x-python",
   "name": "python",
   "nbconvert_exporter": "python",
   "pygments_lexer": "ipython3",
   "version": "3.9.6"
  }
 },
 "nbformat": 4,
 "nbformat_minor": 4
}